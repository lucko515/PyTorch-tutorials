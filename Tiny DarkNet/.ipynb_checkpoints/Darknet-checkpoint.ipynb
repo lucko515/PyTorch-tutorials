{
 "cells": [
  {
   "cell_type": "markdown",
   "metadata": {},
   "source": [
    "This notebook is just a demonstration of building Tiny-DarkNet architecture in the PyTorch.\n",
    "\n",
    "Find more about Datknet project here: https://pjreddie.com/darknet/tiny-darknet/"
   ]
  },
  {
   "cell_type": "code",
   "execution_count": 1,
   "metadata": {},
   "outputs": [],
   "source": [
    "import torch\n",
    "import torchvision\n",
    "import torch.nn as nn\n",
    "import torch.nn.functional as F\n",
    "from torchvision import datasets \n",
    "from torchvision import transforms\n",
    "from torchvision.utils import save_image\n",
    "from torch.autograd import Variable\n",
    "import numpy as np"
   ]
  },
  {
   "cell_type": "code",
   "execution_count": 11,
   "metadata": {},
   "outputs": [],
   "source": [
    "class DarkNet(nn.Module):\n",
    "    \n",
    "    def __init__(self, number_of_classes):\n",
    "        super(DarkNet, self).__init__()\n",
    "        \n",
    "        self.l1 = nn.Conv2d(3, 16, kernel_size=3, stride=1)\n",
    "        self.m1 = nn.MaxPool2d(kernel_size=2, stride=2)\n",
    "        \n",
    "        self.l2 = nn.Conv2d(3, 32, kernel_size=3, stride=1)\n",
    "        self.m2 = nn.MaxPool2d(kernel_size=2, stride=2)\n",
    "        \n",
    "        self.l3 = nn.Conv2d(3, 16, kernel_size=1, stride=1)\n",
    "        self.l4 = nn.Conv2d(3, 128, kernel_size=3, stride=1)\n",
    "        self.l5 = nn.Conv2d(3, 16, kernel_size=1, stride=1)\n",
    "        self.l6 = nn.Conv2d(3, 128, kernel_size=3, stride=1)\n",
    "        self.m3 = nn.MaxPool2d(kernel_size=2, stride=2)\n",
    "        \n",
    "        self.l7 = nn.Conv2d(3, 32, kernel_size=1, stride=1)\n",
    "        self.l8 = nn.Conv2d(3, 256, kernel_size=3, stride=1)\n",
    "        self.l9 = nn.Conv2d(3, 32, kernel_size=1, stride=1)\n",
    "        self.l10 = nn.Conv2d(3, 256, kernel_size=3, stride=1)\n",
    "        self.m4 = nn.MaxPool2d(kernel_size=2, stride=2)\n",
    "        \n",
    "        self.l11 = nn.Conv2d(3, 64, kernel_size=1, stride=1)\n",
    "        self.l12 = nn.Conv2d(3, 512, kernel_size=3, stride=1)\n",
    "        self.l13 = nn.Conv2d(3, 64, kernel_size=1, stride=1)\n",
    "        self.l14 = nn.Conv2d(3, 512, kernel_size=3, stride=1)\n",
    "        \n",
    "        self.l15 = nn.Conv2d(3, 128, kernel_size=1, stride=1)\n",
    "        self.l16 = nn.Conv2d(3, number_of_classes, kernel_size=1, stride=1)\n",
    "        \n",
    "        self.avg_pool = nn.AvgPool2d(kernel_size=14, stride=14)\n",
    "        \n",
    "    def forward(self, X):\n",
    "        \n",
    "        out = F.leaky_relu(self.l1(X), 0.05)\n",
    "        out = self.m1(out)\n",
    "        \n",
    "        out = F.leaky_relu(self.l2(out))\n",
    "        out = self.m2(out)\n",
    "        \n",
    "        out = F.leaky_relu(self.l3(out), 0.05)\n",
    "        out = F.leaky_relu(self.l4(out), 0.05)\n",
    "        out = F.leaky_relu(self.l5(out), 0.05)\n",
    "        out = F.leaky_relu(self.l6(out), 0.05)\n",
    "        out = self.m3(out)\n",
    "        \n",
    "        out = F.leaky_relu(self.l7(out), 0.05)\n",
    "        out = F.leaky_relu(self.l8(out), 0.05)\n",
    "        out = F.leaky_relu(self.l9(out), 0.05)\n",
    "        out = F.leaky_relu(self.l10(out), 0.05)\n",
    "        out = self.m4(out)\n",
    "        out = F.dropout2d(out)\n",
    "        \n",
    "        out = F.leaky_relu(self.l11(out), 0.05)\n",
    "        out = F.leaky_relu(self.l12(out), 0.05)\n",
    "        out = F.leaky_relu(self.l13(out), 0.05)\n",
    "        out = F.leaky_relu(self.l14(out), 0.05)\n",
    "        out = self.m5(out)\n",
    "        out = F.dropout2d(out)\n",
    "        \n",
    "        out = F.leaky_relu(self.l15(out), 0.05)\n",
    "        out = F.leaky_relu(self.l16(out), 0.05)\n",
    "        \n",
    "        out = F.softmax(self.avg_pool(out))\n",
    "        return out"
   ]
  },
  {
   "cell_type": "code",
   "execution_count": 12,
   "metadata": {},
   "outputs": [],
   "source": [
    "tiny_darknet = DarkNet(10)"
   ]
  },
  {
   "cell_type": "code",
   "execution_count": 13,
   "metadata": {},
   "outputs": [
    {
     "data": {
      "text/plain": [
       "DarkNet(\n",
       "  (l1): Conv2d (3, 16, kernel_size=(3, 3), stride=(1, 1))\n",
       "  (m1): MaxPool2d(kernel_size=(2, 2), stride=(2, 2), dilation=(1, 1))\n",
       "  (l2): Conv2d (3, 32, kernel_size=(3, 3), stride=(1, 1))\n",
       "  (m2): MaxPool2d(kernel_size=(2, 2), stride=(2, 2), dilation=(1, 1))\n",
       "  (l3): Conv2d (3, 16, kernel_size=(1, 1), stride=(1, 1))\n",
       "  (l4): Conv2d (3, 128, kernel_size=(3, 3), stride=(1, 1))\n",
       "  (l5): Conv2d (3, 16, kernel_size=(1, 1), stride=(1, 1))\n",
       "  (l6): Conv2d (3, 128, kernel_size=(3, 3), stride=(1, 1))\n",
       "  (m3): MaxPool2d(kernel_size=(2, 2), stride=(2, 2), dilation=(1, 1))\n",
       "  (l7): Conv2d (3, 32, kernel_size=(1, 1), stride=(1, 1))\n",
       "  (l8): Conv2d (3, 256, kernel_size=(3, 3), stride=(1, 1))\n",
       "  (l9): Conv2d (3, 32, kernel_size=(1, 1), stride=(1, 1))\n",
       "  (l10): Conv2d (3, 256, kernel_size=(3, 3), stride=(1, 1))\n",
       "  (m4): MaxPool2d(kernel_size=(2, 2), stride=(2, 2), dilation=(1, 1))\n",
       "  (l11): Conv2d (3, 64, kernel_size=(1, 1), stride=(1, 1))\n",
       "  (l12): Conv2d (3, 512, kernel_size=(3, 3), stride=(1, 1))\n",
       "  (l13): Conv2d (3, 64, kernel_size=(1, 1), stride=(1, 1))\n",
       "  (l14): Conv2d (3, 512, kernel_size=(3, 3), stride=(1, 1))\n",
       "  (l15): Conv2d (3, 128, kernel_size=(1, 1), stride=(1, 1))\n",
       "  (l16): Conv2d (3, 10, kernel_size=(1, 1), stride=(1, 1))\n",
       "  (avg_pool): AvgPool2d(kernel_size=14, stride=14, padding=0, ceil_mode=False, count_include_pad=True)\n",
       ")"
      ]
     },
     "execution_count": 13,
     "metadata": {},
     "output_type": "execute_result"
    }
   ],
   "source": [
    "tiny_darknet.cuda()"
   ]
  }
 ],
 "metadata": {
  "kernelspec": {
   "display_name": "Python 3",
   "language": "python",
   "name": "python3"
  },
  "language_info": {
   "codemirror_mode": {
    "name": "ipython",
    "version": 3
   },
   "file_extension": ".py",
   "mimetype": "text/x-python",
   "name": "python",
   "nbconvert_exporter": "python",
   "pygments_lexer": "ipython3",
   "version": "3.5.4"
  }
 },
 "nbformat": 4,
 "nbformat_minor": 2
}
